{
 "nbformat": 4,
 "nbformat_minor": 0,
 "metadata": {
  "colab": {
   "provenance": []
  },
  "kernelspec": {
   "name": "python3",
   "display_name": "Python 3 (ipykernel)",
   "language": "python"
  },
  "language_info": {
   "name": "python"
  }
 },
 "cells": [
  {
   "cell_type": "markdown",
   "source": [
    "# BRD to User Stories"
   ],
   "metadata": {
    "id": "aIIhqbwXQ2Im"
   }
  },
  {
   "cell_type": "markdown",
   "source": [
    "> # Install necessary libraries"
   ],
   "metadata": {
    "id": "Y40j9eUUQpoF"
   }
  },
  {
   "cell_type": "code",
   "metadata": {
    "id": "Wdr3juH6ORyS",
    "ExecuteTime": {
     "end_time": "2024-10-15T10:21:33.903855Z",
     "start_time": "2024-10-15T10:20:41.966639Z"
    }
   },
   "source": [
    "!pip install streamlit==1.38.0 \\\n",
    "PyPDF2==3.0.1 \\\n",
    "python-docx==0.8.11 \\\n",
    "python-pptx==0.6.21 \\\n",
    "pandas==2.2.2 \\\n",
    "openai \\\n",
    "langchain \\\n",
    "langchain_openai \\\n",
    "faiss-cpu==1.8.0 \\\n",
    "langchain-community==0.3.0 \\\n",
    "langchain-core==0.3.5 \\\n",
    "scikit-learn \\\n",
    "openpyxl \\\n",
    "pypdf"
   ],
   "outputs": [
    {
     "name": "stdout",
     "output_type": "stream",
     "text": [
      "Requirement already satisfied: streamlit==1.38.0 in e:\\mscfinalprojects\\mscproj\\venv\\lib\\site-packages (1.38.0)\n",
      "Requirement already satisfied: PyPDF2==3.0.1 in e:\\mscfinalprojects\\mscproj\\venv\\lib\\site-packages (3.0.1)\n",
      "Requirement already satisfied: python-docx==0.8.11 in e:\\mscfinalprojects\\mscproj\\venv\\lib\\site-packages (0.8.11)\n",
      "Requirement already satisfied: python-pptx==0.6.21 in e:\\mscfinalprojects\\mscproj\\venv\\lib\\site-packages (0.6.21)\n",
      "Collecting pandas==2.2.2\n",
      "  Using cached pandas-2.2.2-cp39-cp39-win_amd64.whl.metadata (19 kB)\n",
      "Requirement already satisfied: openai in e:\\mscfinalprojects\\mscproj\\venv\\lib\\site-packages (1.51.2)\n",
      "Requirement already satisfied: langchain in e:\\mscfinalprojects\\mscproj\\venv\\lib\\site-packages (0.3.0)\n",
      "Requirement already satisfied: langchain_openai in e:\\mscfinalprojects\\mscproj\\venv\\lib\\site-packages (0.2.1)\n",
      "Requirement already satisfied: faiss-cpu==1.8.0 in e:\\mscfinalprojects\\mscproj\\venv\\lib\\site-packages (1.8.0)\n",
      "Requirement already satisfied: langchain-community==0.3.0 in e:\\mscfinalprojects\\mscproj\\venv\\lib\\site-packages (0.3.0)\n",
      "Requirement already satisfied: langchain-core==0.3.5 in e:\\mscfinalprojects\\mscproj\\venv\\lib\\site-packages (0.3.5)\n",
      "Requirement already satisfied: scikit-learn in e:\\mscfinalprojects\\mscproj\\venv\\lib\\site-packages (1.5.2)\n",
      "Requirement already satisfied: openpyxl in e:\\mscfinalprojects\\mscproj\\venv\\lib\\site-packages (3.1.5)\n",
      "Requirement already satisfied: pypdf in e:\\mscfinalprojects\\mscproj\\venv\\lib\\site-packages (5.0.1)\n",
      "Requirement already satisfied: altair<6,>=4.0 in e:\\mscfinalprojects\\mscproj\\venv\\lib\\site-packages (from streamlit==1.38.0) (4.2.2)\n",
      "Requirement already satisfied: blinker<2,>=1.0.0 in e:\\mscfinalprojects\\mscproj\\venv\\lib\\site-packages (from streamlit==1.38.0) (1.8.2)\n",
      "Requirement already satisfied: cachetools<6,>=4.0 in e:\\mscfinalprojects\\mscproj\\venv\\lib\\site-packages (from streamlit==1.38.0) (5.5.0)\n",
      "Requirement already satisfied: click<9,>=7.0 in e:\\mscfinalprojects\\mscproj\\venv\\lib\\site-packages (from streamlit==1.38.0) (8.1.7)\n",
      "Requirement already satisfied: numpy<3,>=1.20 in e:\\mscfinalprojects\\mscproj\\venv\\lib\\site-packages (from streamlit==1.38.0) (1.26.4)\n",
      "Requirement already satisfied: packaging<25,>=20 in e:\\mscfinalprojects\\mscproj\\venv\\lib\\site-packages (from streamlit==1.38.0) (24.1)\n",
      "Requirement already satisfied: pillow<11,>=7.1.0 in e:\\mscfinalprojects\\mscproj\\venv\\lib\\site-packages (from streamlit==1.38.0) (10.4.0)\n",
      "Requirement already satisfied: protobuf<6,>=3.20 in e:\\mscfinalprojects\\mscproj\\venv\\lib\\site-packages (from streamlit==1.38.0) (5.28.2)\n",
      "Requirement already satisfied: pyarrow>=7.0 in e:\\mscfinalprojects\\mscproj\\venv\\lib\\site-packages (from streamlit==1.38.0) (17.0.0)\n",
      "Requirement already satisfied: requests<3,>=2.27 in e:\\mscfinalprojects\\mscproj\\venv\\lib\\site-packages (from streamlit==1.38.0) (2.32.3)\n",
      "Requirement already satisfied: rich<14,>=10.14.0 in e:\\mscfinalprojects\\mscproj\\venv\\lib\\site-packages (from streamlit==1.38.0) (13.9.2)\n",
      "Requirement already satisfied: tenacity<9,>=8.1.0 in e:\\mscfinalprojects\\mscproj\\venv\\lib\\site-packages (from streamlit==1.38.0) (8.5.0)\n",
      "Requirement already satisfied: toml<2,>=0.10.1 in e:\\mscfinalprojects\\mscproj\\venv\\lib\\site-packages (from streamlit==1.38.0) (0.10.2)\n",
      "Requirement already satisfied: typing-extensions<5,>=4.3.0 in e:\\mscfinalprojects\\mscproj\\venv\\lib\\site-packages (from streamlit==1.38.0) (4.12.2)\n",
      "Requirement already satisfied: gitpython!=3.1.19,<4,>=3.0.7 in e:\\mscfinalprojects\\mscproj\\venv\\lib\\site-packages (from streamlit==1.38.0) (3.1.43)\n",
      "Requirement already satisfied: pydeck<1,>=0.8.0b4 in e:\\mscfinalprojects\\mscproj\\venv\\lib\\site-packages (from streamlit==1.38.0) (0.9.1)\n",
      "Requirement already satisfied: tornado<7,>=6.0.3 in e:\\mscfinalprojects\\mscproj\\venv\\lib\\site-packages (from streamlit==1.38.0) (6.4.1)\n",
      "Requirement already satisfied: watchdog<5,>=2.1.5 in e:\\mscfinalprojects\\mscproj\\venv\\lib\\site-packages (from streamlit==1.38.0) (4.0.2)\n",
      "Requirement already satisfied: lxml>=2.3.2 in e:\\mscfinalprojects\\mscproj\\venv\\lib\\site-packages (from python-docx==0.8.11) (5.3.0)\n",
      "Requirement already satisfied: XlsxWriter>=0.5.7 in e:\\mscfinalprojects\\mscproj\\venv\\lib\\site-packages (from python-pptx==0.6.21) (3.2.0)\n",
      "Requirement already satisfied: python-dateutil>=2.8.2 in e:\\mscfinalprojects\\mscproj\\venv\\lib\\site-packages (from pandas==2.2.2) (2.9.0.post0)\n",
      "Requirement already satisfied: pytz>=2020.1 in e:\\mscfinalprojects\\mscproj\\venv\\lib\\site-packages (from pandas==2.2.2) (2024.2)\n",
      "Requirement already satisfied: tzdata>=2022.7 in e:\\mscfinalprojects\\mscproj\\venv\\lib\\site-packages (from pandas==2.2.2) (2024.2)\n",
      "Requirement already satisfied: PyYAML>=5.3 in e:\\mscfinalprojects\\mscproj\\venv\\lib\\site-packages (from langchain-community==0.3.0) (6.0.2)\n",
      "Requirement already satisfied: SQLAlchemy<3,>=1.4 in e:\\mscfinalprojects\\mscproj\\venv\\lib\\site-packages (from langchain-community==0.3.0) (2.0.35)\n",
      "Requirement already satisfied: aiohttp<4.0.0,>=3.8.3 in e:\\mscfinalprojects\\mscproj\\venv\\lib\\site-packages (from langchain-community==0.3.0) (3.10.10)\n",
      "Requirement already satisfied: dataclasses-json<0.7,>=0.5.7 in e:\\mscfinalprojects\\mscproj\\venv\\lib\\site-packages (from langchain-community==0.3.0) (0.6.7)\n",
      "Requirement already satisfied: langsmith<0.2.0,>=0.1.112 in e:\\mscfinalprojects\\mscproj\\venv\\lib\\site-packages (from langchain-community==0.3.0) (0.1.134)\n",
      "Requirement already satisfied: pydantic-settings<3.0.0,>=2.4.0 in e:\\mscfinalprojects\\mscproj\\venv\\lib\\site-packages (from langchain-community==0.3.0) (2.5.2)\n",
      "Requirement already satisfied: jsonpatch<2.0,>=1.33 in e:\\mscfinalprojects\\mscproj\\venv\\lib\\site-packages (from langchain-core==0.3.5) (1.33)\n",
      "Requirement already satisfied: pydantic<3.0.0,>=2.5.2 in e:\\mscfinalprojects\\mscproj\\venv\\lib\\site-packages (from langchain-core==0.3.5) (2.9.2)\n",
      "Requirement already satisfied: anyio<5,>=3.5.0 in e:\\mscfinalprojects\\mscproj\\venv\\lib\\site-packages (from openai) (4.6.0)\n",
      "Requirement already satisfied: distro<2,>=1.7.0 in e:\\mscfinalprojects\\mscproj\\venv\\lib\\site-packages (from openai) (1.9.0)\n",
      "Requirement already satisfied: httpx<1,>=0.23.0 in e:\\mscfinalprojects\\mscproj\\venv\\lib\\site-packages (from openai) (0.27.2)\n",
      "Requirement already satisfied: jiter<1,>=0.4.0 in e:\\mscfinalprojects\\mscproj\\venv\\lib\\site-packages (from openai) (0.6.1)\n",
      "Requirement already satisfied: sniffio in e:\\mscfinalprojects\\mscproj\\venv\\lib\\site-packages (from openai) (1.3.1)\n",
      "Requirement already satisfied: tqdm>4 in e:\\mscfinalprojects\\mscproj\\venv\\lib\\site-packages (from openai) (4.66.5)\n",
      "Requirement already satisfied: async-timeout<5.0.0,>=4.0.0 in e:\\mscfinalprojects\\mscproj\\venv\\lib\\site-packages (from langchain) (4.0.3)\n",
      "Requirement already satisfied: langchain-text-splitters<0.4.0,>=0.3.0 in e:\\mscfinalprojects\\mscproj\\venv\\lib\\site-packages (from langchain) (0.3.0)\n",
      "Requirement already satisfied: tiktoken<1,>=0.7 in e:\\mscfinalprojects\\mscproj\\venv\\lib\\site-packages (from langchain_openai) (0.8.0)\n",
      "Requirement already satisfied: scipy>=1.6.0 in e:\\mscfinalprojects\\mscproj\\venv\\lib\\site-packages (from scikit-learn) (1.13.1)\n",
      "Requirement already satisfied: joblib>=1.2.0 in e:\\mscfinalprojects\\mscproj\\venv\\lib\\site-packages (from scikit-learn) (1.4.2)\n",
      "Requirement already satisfied: threadpoolctl>=3.1.0 in e:\\mscfinalprojects\\mscproj\\venv\\lib\\site-packages (from scikit-learn) (3.5.0)\n",
      "Requirement already satisfied: et-xmlfile in e:\\mscfinalprojects\\mscproj\\venv\\lib\\site-packages (from openpyxl) (1.1.0)\n",
      "Requirement already satisfied: aiohappyeyeballs>=2.3.0 in e:\\mscfinalprojects\\mscproj\\venv\\lib\\site-packages (from aiohttp<4.0.0,>=3.8.3->langchain-community==0.3.0) (2.4.3)\n",
      "Requirement already satisfied: aiosignal>=1.1.2 in e:\\mscfinalprojects\\mscproj\\venv\\lib\\site-packages (from aiohttp<4.0.0,>=3.8.3->langchain-community==0.3.0) (1.3.1)\n",
      "Requirement already satisfied: attrs>=17.3.0 in e:\\mscfinalprojects\\mscproj\\venv\\lib\\site-packages (from aiohttp<4.0.0,>=3.8.3->langchain-community==0.3.0) (24.2.0)\n",
      "Requirement already satisfied: frozenlist>=1.1.1 in e:\\mscfinalprojects\\mscproj\\venv\\lib\\site-packages (from aiohttp<4.0.0,>=3.8.3->langchain-community==0.3.0) (1.4.1)\n",
      "Requirement already satisfied: multidict<7.0,>=4.5 in e:\\mscfinalprojects\\mscproj\\venv\\lib\\site-packages (from aiohttp<4.0.0,>=3.8.3->langchain-community==0.3.0) (6.1.0)\n",
      "Requirement already satisfied: yarl<2.0,>=1.12.0 in e:\\mscfinalprojects\\mscproj\\venv\\lib\\site-packages (from aiohttp<4.0.0,>=3.8.3->langchain-community==0.3.0) (1.15.0)\n",
      "Requirement already satisfied: entrypoints in e:\\mscfinalprojects\\mscproj\\venv\\lib\\site-packages (from altair<6,>=4.0->streamlit==1.38.0) (0.4)\n",
      "Requirement already satisfied: jinja2 in e:\\mscfinalprojects\\mscproj\\venv\\lib\\site-packages (from altair<6,>=4.0->streamlit==1.38.0) (3.1.4)\n",
      "Requirement already satisfied: jsonschema>=3.0 in e:\\mscfinalprojects\\mscproj\\venv\\lib\\site-packages (from altair<6,>=4.0->streamlit==1.38.0) (4.23.0)\n",
      "Requirement already satisfied: toolz in e:\\mscfinalprojects\\mscproj\\venv\\lib\\site-packages (from altair<6,>=4.0->streamlit==1.38.0) (1.0.0)\n",
      "Requirement already satisfied: idna>=2.8 in e:\\mscfinalprojects\\mscproj\\venv\\lib\\site-packages (from anyio<5,>=3.5.0->openai) (3.10)\n",
      "Requirement already satisfied: exceptiongroup>=1.0.2 in e:\\mscfinalprojects\\mscproj\\venv\\lib\\site-packages (from anyio<5,>=3.5.0->openai) (1.2.2)\n",
      "Requirement already satisfied: colorama in e:\\mscfinalprojects\\mscproj\\venv\\lib\\site-packages (from click<9,>=7.0->streamlit==1.38.0) (0.4.6)\n",
      "Requirement already satisfied: marshmallow<4.0.0,>=3.18.0 in e:\\mscfinalprojects\\mscproj\\venv\\lib\\site-packages (from dataclasses-json<0.7,>=0.5.7->langchain-community==0.3.0) (3.22.0)\n",
      "Requirement already satisfied: typing-inspect<1,>=0.4.0 in e:\\mscfinalprojects\\mscproj\\venv\\lib\\site-packages (from dataclasses-json<0.7,>=0.5.7->langchain-community==0.3.0) (0.9.0)\n",
      "Requirement already satisfied: gitdb<5,>=4.0.1 in e:\\mscfinalprojects\\mscproj\\venv\\lib\\site-packages (from gitpython!=3.1.19,<4,>=3.0.7->streamlit==1.38.0) (4.0.11)\n",
      "Requirement already satisfied: certifi in e:\\mscfinalprojects\\mscproj\\venv\\lib\\site-packages (from httpx<1,>=0.23.0->openai) (2024.8.30)\n",
      "Requirement already satisfied: httpcore==1.* in e:\\mscfinalprojects\\mscproj\\venv\\lib\\site-packages (from httpx<1,>=0.23.0->openai) (1.0.6)\n",
      "Requirement already satisfied: h11<0.15,>=0.13 in e:\\mscfinalprojects\\mscproj\\venv\\lib\\site-packages (from httpcore==1.*->httpx<1,>=0.23.0->openai) (0.14.0)\n",
      "Requirement already satisfied: jsonpointer>=1.9 in e:\\mscfinalprojects\\mscproj\\venv\\lib\\site-packages (from jsonpatch<2.0,>=1.33->langchain-core==0.3.5) (3.0.0)\n",
      "Requirement already satisfied: orjson<4.0.0,>=3.9.14 in e:\\mscfinalprojects\\mscproj\\venv\\lib\\site-packages (from langsmith<0.2.0,>=0.1.112->langchain-community==0.3.0) (3.10.7)\n",
      "Requirement already satisfied: requests-toolbelt<2.0.0,>=1.0.0 in e:\\mscfinalprojects\\mscproj\\venv\\lib\\site-packages (from langsmith<0.2.0,>=0.1.112->langchain-community==0.3.0) (1.0.0)\n",
      "Requirement already satisfied: annotated-types>=0.6.0 in e:\\mscfinalprojects\\mscproj\\venv\\lib\\site-packages (from pydantic<3.0.0,>=2.5.2->langchain-core==0.3.5) (0.7.0)\n",
      "Requirement already satisfied: pydantic-core==2.23.4 in e:\\mscfinalprojects\\mscproj\\venv\\lib\\site-packages (from pydantic<3.0.0,>=2.5.2->langchain-core==0.3.5) (2.23.4)\n",
      "Requirement already satisfied: python-dotenv>=0.21.0 in e:\\mscfinalprojects\\mscproj\\venv\\lib\\site-packages (from pydantic-settings<3.0.0,>=2.4.0->langchain-community==0.3.0) (1.0.1)\n",
      "Requirement already satisfied: six>=1.5 in e:\\mscfinalprojects\\mscproj\\venv\\lib\\site-packages (from python-dateutil>=2.8.2->pandas==2.2.2) (1.16.0)\n",
      "Requirement already satisfied: charset-normalizer<4,>=2 in e:\\mscfinalprojects\\mscproj\\venv\\lib\\site-packages (from requests<3,>=2.27->streamlit==1.38.0) (3.4.0)\n",
      "Requirement already satisfied: urllib3<3,>=1.21.1 in e:\\mscfinalprojects\\mscproj\\venv\\lib\\site-packages (from requests<3,>=2.27->streamlit==1.38.0) (2.2.3)\n",
      "Requirement already satisfied: markdown-it-py>=2.2.0 in e:\\mscfinalprojects\\mscproj\\venv\\lib\\site-packages (from rich<14,>=10.14.0->streamlit==1.38.0) (3.0.0)\n",
      "Requirement already satisfied: pygments<3.0.0,>=2.13.0 in e:\\mscfinalprojects\\mscproj\\venv\\lib\\site-packages (from rich<14,>=10.14.0->streamlit==1.38.0) (2.18.0)\n",
      "Requirement already satisfied: greenlet!=0.4.17 in e:\\mscfinalprojects\\mscproj\\venv\\lib\\site-packages (from SQLAlchemy<3,>=1.4->langchain-community==0.3.0) (3.1.1)\n",
      "Requirement already satisfied: regex>=2022.1.18 in e:\\mscfinalprojects\\mscproj\\venv\\lib\\site-packages (from tiktoken<1,>=0.7->langchain_openai) (2024.9.11)\n",
      "Requirement already satisfied: smmap<6,>=3.0.1 in e:\\mscfinalprojects\\mscproj\\venv\\lib\\site-packages (from gitdb<5,>=4.0.1->gitpython!=3.1.19,<4,>=3.0.7->streamlit==1.38.0) (5.0.1)\n",
      "Requirement already satisfied: MarkupSafe>=2.0 in e:\\mscfinalprojects\\mscproj\\venv\\lib\\site-packages (from jinja2->altair<6,>=4.0->streamlit==1.38.0) (3.0.1)\n",
      "Requirement already satisfied: jsonschema-specifications>=2023.03.6 in e:\\mscfinalprojects\\mscproj\\venv\\lib\\site-packages (from jsonschema>=3.0->altair<6,>=4.0->streamlit==1.38.0) (2024.10.1)\n",
      "Requirement already satisfied: referencing>=0.28.4 in e:\\mscfinalprojects\\mscproj\\venv\\lib\\site-packages (from jsonschema>=3.0->altair<6,>=4.0->streamlit==1.38.0) (0.35.1)\n",
      "Requirement already satisfied: rpds-py>=0.7.1 in e:\\mscfinalprojects\\mscproj\\venv\\lib\\site-packages (from jsonschema>=3.0->altair<6,>=4.0->streamlit==1.38.0) (0.20.0)\n",
      "Requirement already satisfied: mdurl~=0.1 in e:\\mscfinalprojects\\mscproj\\venv\\lib\\site-packages (from markdown-it-py>=2.2.0->rich<14,>=10.14.0->streamlit==1.38.0) (0.1.2)\n",
      "Requirement already satisfied: mypy-extensions>=0.3.0 in e:\\mscfinalprojects\\mscproj\\venv\\lib\\site-packages (from typing-inspect<1,>=0.4.0->dataclasses-json<0.7,>=0.5.7->langchain-community==0.3.0) (1.0.0)\n",
      "Requirement already satisfied: propcache>=0.2.0 in e:\\mscfinalprojects\\mscproj\\venv\\lib\\site-packages (from yarl<2.0,>=1.12.0->aiohttp<4.0.0,>=3.8.3->langchain-community==0.3.0) (0.2.0)\n",
      "Using cached pandas-2.2.2-cp39-cp39-win_amd64.whl (11.6 MB)\n",
      "Installing collected packages: pandas\n",
      "  Attempting uninstall: pandas\n",
      "    Found existing installation: pandas 2.1.1\n",
      "    Uninstalling pandas-2.1.1:\n",
      "      Successfully uninstalled pandas-2.1.1\n",
      "Successfully installed pandas-2.2.2\n"
     ]
    },
    {
     "name": "stderr",
     "output_type": "stream",
     "text": [
      "  WARNING: Failed to remove contents in a temporary directory 'E:\\MscFinalProjects\\mscProj\\venv\\Lib\\site-packages\\~-ndas.libs'.\n",
      "  You can safely remove it manually.\n",
      "  WARNING: Failed to remove contents in a temporary directory 'E:\\MscFinalProjects\\mscProj\\venv\\Lib\\site-packages\\~-ndas'.\n",
      "  You can safely remove it manually.\n"
     ]
    }
   ],
   "execution_count": 2
  },
  {
   "cell_type": "markdown",
   "source": [
    "> # Import necessary libraries"
   ],
   "metadata": {
    "id": "AabXq48SQk3z"
   }
  },
  {
   "cell_type": "code",
   "source": [
    "import os\n",
    "import time\n",
    "import pandas as pd\n",
    "from PyPDF2 import PdfReader\n",
    "from docx import Document\n",
    "import pptx\n",
    "from langchain.chains.retrieval_qa.base import RetrievalQA\n",
    "from langchain.text_splitter import RecursiveCharacterTextSplitter\n",
    "from langchain_openai import OpenAIEmbeddings\n",
    "from langchain_community.vectorstores import FAISS\n",
    "from langchain_openai import ChatOpenAI\n",
    "from app_secret import OPENAI_API_KEY"
   ],
   "metadata": {
    "id": "NYBHV_pGQitt",
    "ExecuteTime": {
     "end_time": "2024-10-15T10:25:27.069717Z",
     "start_time": "2024-10-15T10:25:27.044289Z"
    }
   },
   "outputs": [],
   "execution_count": 5
  },
  {
   "cell_type": "markdown",
   "source": [
    "> # Set OpenAI API key"
   ],
   "metadata": {
    "id": "jJaQa0p4RRJt"
   }
  },
  {
   "cell_type": "code",
   "source": [
    "os.environ[\"OPENAI_API_KEY\"] = OPENAI_API_KEY\n",
    "openai_api_key = os.environ[\"OPENAI_API_KEY\"]"
   ],
   "metadata": {
    "id": "vZB4eacSRln8",
    "ExecuteTime": {
     "end_time": "2024-10-15T10:25:28.969201Z",
     "start_time": "2024-10-15T10:25:28.958763Z"
    }
   },
   "outputs": [],
   "execution_count": 6
  },
  {
   "cell_type": "markdown",
   "source": [
    "> # Setup the Langchain Base Model"
   ],
   "metadata": {
    "id": "fxh6gwAmSX4u"
   }
  },
  {
   "cell_type": "code",
   "source": [
    "llm = ChatOpenAI(\n",
    "                openai_api_key=os.environ[\"OPENAI_API_KEY\"],\n",
    "                temperature=0.9,\n",
    "                max_tokens=1500,\n",
    "                model_name=\"gpt-4o\"\n",
    "            )"
   ],
   "metadata": {
    "id": "N_fbwODgSWUm",
    "ExecuteTime": {
     "end_time": "2024-10-15T10:26:23.773728Z",
     "start_time": "2024-10-15T10:26:23.627453Z"
    }
   },
   "outputs": [],
   "execution_count": 8
  },
  {
   "cell_type": "markdown",
   "source": [
    "> # Load the BRD Document"
   ],
   "metadata": {
    "id": "mh3iTebmSm8A"
   }
  },
  {
   "cell_type": "code",
   "source": "DOCUMENTS_FOLDER = \"data/file_folder\"",
   "metadata": {
    "id": "35wFU1rXSt_F",
    "ExecuteTime": {
     "end_time": "2024-10-15T10:29:10.618488Z",
     "start_time": "2024-10-15T10:29:10.608223Z"
    }
   },
   "outputs": [],
   "execution_count": 17
  },
  {
   "cell_type": "markdown",
   "source": [
    "> # Function to extract text from various file types"
   ],
   "metadata": {
    "id": "Ts_2kAx_UWEE"
   }
  },
  {
   "cell_type": "code",
   "source": [
    "\n",
    "def extract_text_from_file(filepath):\n",
    "    \"\"\"Extracts text based on file type.\"\"\"\n",
    "    text = \"\"\n",
    "    file_ext = os.path.splitext(filepath)[1].lower()\n",
    "\n",
    "    # Handle PDF files\n",
    "    if file_ext == \".pdf\":\n",
    "        with open(filepath, \"rb\") as file:\n",
    "            pdf_reader = PdfReader(file)\n",
    "            for page in pdf_reader.pages:\n",
    "                text += page.extract_text() or \"\"\n",
    "\n",
    "    # Handle Word (.docx) files\n",
    "    elif file_ext == \".docx\":\n",
    "        doc = Document(filepath)\n",
    "        for para in doc.paragraphs:\n",
    "            text += para.text + \"\\n\"\n",
    "\n",
    "    # Handle text (.txt) files\n",
    "    elif file_ext == \".txt\":\n",
    "        with open(filepath, \"r\", encoding=\"utf-8\") as file:\n",
    "            text = file.read()\n",
    "\n",
    "    # Handle Excel files (.xlsx, .xls)\n",
    "    elif file_ext in [\".xlsx\", \".xls\"]:\n",
    "        df = pd.read_excel(filepath)\n",
    "        text = df.to_string()\n",
    "\n",
    "    # Handle PowerPoint files (.pptx, .ppt)\n",
    "    elif file_ext in [\".pptx\", \".ppt\"]:\n",
    "        ppt = pptx.Presentation(filepath)\n",
    "        for slide in ppt.slides:\n",
    "            for shape in slide.shapes:\n",
    "                if hasattr(shape, \"text\"):\n",
    "                    text += shape.text + \"\\n\"\n",
    "\n",
    "    return text"
   ],
   "metadata": {
    "id": "ZfbpTEDbUJ9E",
    "ExecuteTime": {
     "end_time": "2024-10-15T10:29:15.434381Z",
     "start_time": "2024-10-15T10:29:15.408475Z"
    }
   },
   "outputs": [],
   "execution_count": 20
  },
  {
   "cell_type": "markdown",
   "source": [
    "> # Function to process all files and extract combined text"
   ],
   "metadata": {
    "id": "hwwVGQQtNS8A"
   }
  },
  {
   "cell_type": "code",
   "source": [
    "def process_all_files():\n",
    "    combined_text = \"\"\n",
    "    for filename in os.listdir(DOCUMENTS_FOLDER):\n",
    "        filepath = os.path.join(DOCUMENTS_FOLDER, filename)\n",
    "        combined_text += extract_text_from_file(filepath)\n",
    "    return combined_text"
   ],
   "metadata": {
    "id": "QbE_Uil_NX7w",
    "ExecuteTime": {
     "end_time": "2024-10-15T10:29:19.630321Z",
     "start_time": "2024-10-15T10:29:19.623365Z"
    }
   },
   "outputs": [],
   "execution_count": 21
  },
  {
   "cell_type": "markdown",
   "source": [
    "> # Function to create vector store from extracted text"
   ],
   "metadata": {
    "id": "pkQiw_GNNbgg"
   }
  },
  {
   "cell_type": "code",
   "source": [
    "def create_vector_store(text):\n",
    "    text_splitter = RecursiveCharacterTextSplitter(\n",
    "        separators=\"\\n\",\n",
    "        chunk_size=800,\n",
    "        chunk_overlap=50,\n",
    "        length_function=len\n",
    "    )\n",
    "    chunks = text_splitter.split_text(text)\n",
    "    # Pass the API key as a keyword argument\n",
    "    embeddings = OpenAIEmbeddings(openai_api_key=os.environ[\"OPENAI_API_KEY\"])\n",
    "    return FAISS.from_texts(chunks, embeddings)"
   ],
   "metadata": {
    "id": "voT7uvFhNenY",
    "ExecuteTime": {
     "end_time": "2024-10-15T10:29:24.269417Z",
     "start_time": "2024-10-15T10:29:24.259801Z"
    }
   },
   "outputs": [],
   "execution_count": 23
  },
  {
   "cell_type": "markdown",
   "source": [
    "> # Main logic to process documents, create vector store, and handle user query"
   ],
   "metadata": {
    "id": "8C42HZiGNl-I"
   }
  },
  {
   "cell_type": "code",
   "source": [
    "# Main logic to process documents, create vector store, and handle user query\n",
    "if __name__ == \"__main__\":\n",
    "    print(\"Starting BRD to User Story conversion...\")\n",
    "\n",
    "    start_time = time.time()\n",
    "    text = process_all_files()\n",
    "\n",
    "    # If text extraction is successful, set up vector store and allow queries\n",
    "    if text:\n",
    "        vector_store = create_vector_store(text)\n",
    "\n",
    "        # Define the prompt message\n",
    "        prompt_message = (\n",
    "            \"You are a senior business analyst responsible for analyzing a Business Requirement Document (BRD). \"\n",
    "            \"Carefully read through the BRD, understand the business needs, and write detailed user stories that capture \"\n",
    "            \"the functional and non-functional requirements. Each user story should follow the format: \"\n",
    "            \"As a [type of user], I want [an action/feature] so that [goal or benefit]. Ensure user stories are clear, \"\n",
    "            \"detailed, and reflect all necessary acceptance criteria and edge cases. Consider all possible scenarios and \"\n",
    "            \"workflows to ensure the stories fully align with the requirements and objectives in the BRD. Write the user \"\n",
    "            \"stories step-by-step and cover all business needs specified in the document.\"\n",
    "        )\n",
    "\n",
    "        # Example of a specific query to use with the prompt message\n",
    "        user_question = \"Generate user stories based on the BRD content.\"\n",
    "\n",
    "        if prompt_message:\n",
    "            start_query_time = time.time()\n",
    "            matches = vector_store.similarity_search(prompt_message, k=3)  # Retrieve top 3 similar texts\n",
    "            print(\"Matches:\", matches)\n",
    "\n",
    "            # Set up the retrieval QA chain with the prompt\n",
    "            qa_chain = RetrievalQA.from_chain_type(\n",
    "                llm=llm,\n",
    "                chain_type=\"stuff\",\n",
    "                retriever=vector_store.as_retriever()\n",
    "            )\n",
    "            response = qa_chain.invoke({\"query\": prompt_message})\n",
    "            print(\"\\nResponse:\", response['result'])\n",
    "\n",
    "            # Display timing info for performance insights\n",
    "            print(f\"\\nDocument loading time: {time.time() - start_time:.2f} seconds\")\n",
    "            print(f\"Query processing time: {time.time() - start_query_time:.2f} seconds\")"
   ],
   "metadata": {
    "id": "PCacs-uzNqhI",
    "ExecuteTime": {
     "end_time": "2024-10-15T10:30:07.052549Z",
     "start_time": "2024-10-15T10:29:48.027639Z"
    }
   },
   "outputs": [
    {
     "name": "stdout",
     "output_type": "stream",
     "text": [
      "Starting BRD to User Story conversion...\n",
      "Matches: [Document(metadata={}, page_content=\"By incorporating user stories and use cases, developers can create a system that aligns with users' \\neveryday workflows.  \\n10. Implementation Timeline  \\nThe BRD should outline a realistic timeline for the EMS project, including key phases like:  \\n1. Requirements Gathering : Understanding the company’s needs, interviewing \\nstakeholders, and finalizing requirements.  \\n2. Design Phase : Creating wireframes, system architecture, and database design.  \\n3. Development : Coding the EMS based on functional and non -functional requirements.  \\n4. Testing : Conducting rigorous testing to identify and fix bugs, including usability, \\nperformance, and security testing.  \\n5. Deployment : Launching the EMS and conducting user training sessions.\"), Document(metadata={}, page_content='The Business Requirement Document  is a formal report that outlines a project’s purpose, \\nscope, and requirements from a business perspective. A BRD for an Employee Management \\nSystem clearly defines what the system should achieve, ensuring that all stakeholders have a \\nshared understanding of the project’s objectives. The BRD provides a foundation for functional \\nrequirements,  user stories, and other technical specifications, bridging the gap between business \\nneeds and technical implementation.  \\n3. Objectives of the Employee Management System BRD  \\nThe BRD for an EMS typically has specific objectives that help guide the development process. \\nKey objectives include:  \\n• Centralizing employee information  to ensure easy access and management.'), Document(metadata={}, page_content=\"loads.  \\nComprehensive testing helps avoid issues post -launch and guarantees a smooth user experience.  \\n12. Conclusion  \\nAn Employee Management System Business Requirement Document  provides the roadmap \\nto develop a system tailored to manage an organization’s workforce efficiently. By defining the \\nEMS's objectives, scope, and functional and non -functional requirements, businesses can create a \\nrobust solution that aligns with their operational goals. Additionally, a well -structured EMS \\noffers significant benefits, including streamlined HR processes, improved employee satisfaction, \\nand enhanced data security.  \\nWith a clear BRD, companies can confidently move forward with an Employee Management\")]\n",
      "\n",
      "Response: To write detailed user stories that capture the functional and non-functional requirements of an Employee Management System (EMS) as outlined in the BRD, we can follow these steps:\n",
      "\n",
      "### Step 1: Identify User Types and Actions\n",
      "From the BRD, potential user types might include HR personnel, employees, managers, and system administrators. Each of these roles will have different interactions with the EMS.\n",
      "\n",
      "### Step 2: Draft User Stories\n",
      "\n",
      "**1. Centralized Employee Information Access**\n",
      "- *As an HR personnel, I want to access centralized employee information so that I can easily manage and update employee records.*\n",
      "  - **Acceptance Criteria**: \n",
      "    - HR personnel can view all employee records.\n",
      "    - HR personnel can update personal details like contact information and address.\n",
      "    - Changes are reflected in real-time in other interconnected systems.\n",
      "  - **Edge Cases**:\n",
      "    - Handling duplicate records.\n",
      "    - Managing access for different HR roles.\n",
      "\n",
      "**2. Employee Record Maintenance**\n",
      "- *As an employee, I want the ability to update my personal information so that my records are always current.*\n",
      "  - **Acceptance Criteria**: \n",
      "    - Employees can update fields such as personal address, emergency contacts, and other non-sensitive information.\n",
      "    - A notification is sent to HR once updates are made.\n",
      "  - **Edge Cases**:\n",
      "    - Attempt to update sensitive information such as salary without proper authorization.\n",
      "\n",
      "**3. Role-Based Access Control**\n",
      "- *As a system administrator, I want to assign role-based access to users so that sensitive information is protected.*\n",
      "  - **Acceptance Criteria**:\n",
      "    - Administrators can define roles and permissions.\n",
      "    - Users can only access information pertinent to their role.\n",
      "  - **Edge Cases**:\n",
      "    - Conflicting role permissions.\n",
      "    - Revoking access when an employee leaves the company.\n",
      "\n",
      "**4. Training and Onboarding**\n",
      "- *As a manager, I want to schedule training sessions for new hires so that they can be onboarded efficiently.*\n",
      "  - **Acceptance Criteria**:\n",
      "    - Managers can create and assign training sessions.\n",
      "    - Employees receive notifications of assigned training.\n",
      "  - **Edge Cases**:\n",
      "    - Managing schedule conflicts.\n",
      "    - Rescheduling or canceling a session.\n",
      "\n",
      "**5. Performance Tracking**\n",
      "- *As a manager, I want to track employee performance metrics so that I can provide constructive feedback.*\n",
      "  - **Acceptance Criteria**:\n",
      "    - Managers can view performance reports.\n",
      "    - Employees receive regular feedback summaries.\n",
      "  - **Edge Cases**:\n",
      "    - Adjusting for incomplete data.\n",
      "    - Generating reports for past employees.\n",
      "\n",
      "**6. Security and Data Protection**\n",
      "- *As a data security officer, I want the system to encrypt personal data so that sensitive employee information is protected.*\n",
      "  - **Acceptance Criteria**:\n",
      "    - All sensitive data are stored encrypted.\n",
      "    - Regular audits are logged and reviewed.\n",
      "  - **Edge Cases**:\n",
      "    - Handling of data breach incidents.\n",
      "    - Recovery of encrypted data in case of system failure.\n",
      "\n",
      "### Step 3: Review and Refine\n",
      "\n",
      "Review the user stories to ensure they are comprehensive and align with the objectives and functional requirements specified in the BRD. Validate that all scenarios and workflows discussed in the BRD have corresponding user stories with relevant edge cases considered.\n",
      "\n",
      "### Conclusion\n",
      "\n",
      "By creating detailed user stories in this format, you ensure all stakeholders have a clear understanding of the system requirements, and the development team has a precise specification to follow, increasing the likelihood of a successful implementation.\n",
      "\n",
      "Document loading time: 19.01 seconds\n",
      "Query processing time: 16.90 seconds\n"
     ]
    }
   ],
   "execution_count": 25
  },
  {
   "cell_type": "markdown",
   "source": [
    "check the accuracy of this model using trulens as percentage of accuracy"
   ],
   "metadata": {
    "id": "EcAZdn_TmeoZ"
   }
  },
  {
   "cell_type": "code",
   "source": [
    "# prompt: check the accuracy of this model as percentage of accuracy\n",
    "\n",
    "# Assuming you have a list of ground truth answers and a list of model predictions\n",
    "ground_truth_answers = [\"Answer 1\", \"Answer 2\", \"Answer 3\", \"Answer 4\"]\n",
    "model_predictions = [\"Answer 1\", \"Answer 2\", \"Answer 3\", \"Answer 4\"]\n",
    "\n",
    "# Calculate the number of correct predictions\n",
    "correct_predictions = 0\n",
    "for ground_truth, prediction in zip(ground_truth_answers, model_predictions):\n",
    "    if ground_truth == prediction:\n",
    "        correct_predictions += 1\n",
    "\n",
    "# Calculate the accuracy as a percentage\n",
    "accuracy = (correct_predictions / len(ground_truth_answers)) * 100\n",
    "\n",
    "print(f\"Model Accuracy: {accuracy:.2f}%\")\n",
    "\n"
   ],
   "metadata": {
    "id": "CUXw7orZTTKB"
   },
   "execution_count": null,
   "outputs": []
  }
 ]
}
